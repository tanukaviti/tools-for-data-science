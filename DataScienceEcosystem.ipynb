{
 "cells": [
  {
   "cell_type": "markdown",
   "id": "e389ec1e",
   "metadata": {},
   "source": [
    "# Data Science Tools and Ecosystem"
   ]
  },
  {
   "cell_type": "markdown",
   "id": "27e2c47e",
   "metadata": {},
   "source": [
    "In this notebook, Data Science Tools and Ecosystem are summarized."
   ]
  },
  {
   "cell_type": "markdown",
   "id": "4000916b",
   "metadata": {},
   "source": [
    "Some of the popular languages that Data Scientists use are:\n",
    "1.Python\n",
    "2.SQL\n",
    "3.R\n",
    "4.Julia\n",
    "5.Java\n",
    "6.JavaScript"
   ]
  },
  {
   "cell_type": "markdown",
   "id": "558be331",
   "metadata": {},
   "source": [
    "Some of the commonly used libraries used by Data Scientists include:\n",
    "1.Pandas\n",
    "2.NumPy\n",
    "3.Matplotlib\n",
    "4.Seaborn\n",
    "5.SciKit-Learn\n",
    "6.Keras\n",
    "7.TensorFlow\n",
    "8.PyTorch\n",
    "9.Apache Spark"
   ]
  },
  {
   "cell_type": "markdown",
   "id": "f20ddfa6",
   "metadata": {},
   "source": [
    "|Data Science Tools|\n",
    "|---|\n",
    "|Tableau|\n",
    "|TensorFlow|\n",
    "|Python|\n",
    "|Jupyter Notebook|\n",
    "|SAS|\n",
    "|Excel|\n",
    "|Apache Spark|\n",
    "|Apache Hadoop|\n",
    "|MATLAB|"
   ]
  },
  {
   "cell_type": "markdown",
   "id": "8bdf3dbe",
   "metadata": {},
   "source": [
    "Below are a few examples of evaluating arithmetic expressions in Python"
   ]
  },
  {
   "cell_type": "code",
   "execution_count": 4,
   "id": "48a32975",
   "metadata": {},
   "outputs": [
    {
     "data": {
      "text/plain": [
       "17"
      ]
     },
     "execution_count": 4,
     "metadata": {},
     "output_type": "execute_result"
    }
   ],
   "source": [
    "#  This a simple arithmetic expression to mutiply then add integers\n",
    "(3*4)+5"
   ]
  },
  {
   "cell_type": "code",
   "execution_count": 5,
   "id": "b027e1f6",
   "metadata": {},
   "outputs": [
    {
     "data": {
      "text/plain": [
       "3.3333333333333335"
      ]
     },
     "execution_count": 5,
     "metadata": {},
     "output_type": "execute_result"
    }
   ],
   "source": [
    "#  This will convert 200 minutes to hours by diving by 60\n",
    "200/60"
   ]
  },
  {
   "cell_type": "markdown",
   "id": "2b4524cb",
   "metadata": {},
   "source": [
    "__Objective__\n",
    "* List popular languages of Data Science\n",
    "* List popular libraries of Data Science\n",
    "* List popular Data Science Libraries\n",
    "* Create a Jupyter Notebook with markdown and code cells"
   ]
  },
  {
   "cell_type": "markdown",
   "id": "2ed3fdbc",
   "metadata": {},
   "source": [
    "# Author\n",
    "Kaviti Tanuja"
   ]
  },
  {
   "cell_type": "code",
   "execution_count": null,
   "id": "6094acdc",
   "metadata": {},
   "outputs": [],
   "source": []
  }
 ],
 "metadata": {
  "kernelspec": {
   "display_name": "Python 3 (ipykernel)",
   "language": "python",
   "name": "python3"
  },
  "language_info": {
   "codemirror_mode": {
    "name": "ipython",
    "version": 3
   },
   "file_extension": ".py",
   "mimetype": "text/x-python",
   "name": "python",
   "nbconvert_exporter": "python",
   "pygments_lexer": "ipython3",
   "version": "3.9.13"
  }
 },
 "nbformat": 4,
 "nbformat_minor": 5
}
